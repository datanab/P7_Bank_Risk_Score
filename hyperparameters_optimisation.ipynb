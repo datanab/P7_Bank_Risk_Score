{
 "cells": [
  {
   "cell_type": "code",
   "execution_count": 1,
   "id": "8ef5bb6b",
   "metadata": {},
   "outputs": [],
   "source": [
    "import numpy as np, pandas as pd, matplotlib.pyplot as plt, seaborn as sns\n",
    "from sklearn.model_selection import train_test_split, GridSearchCV, KFold, StratifiedKFold\n",
    "from sklearn.impute import SimpleImputer, KNNImputer\n",
    "from sklearn.compose import ColumnTransformer, make_column_selector as selector\n",
    "from sklearn.linear_model import LogisticRegression\n",
    "from sklearn.ensemble import GradientBoostingClassifier\n",
    "from lightgbm import LGBMClassifier\n",
    "from sklearn.metrics import confusion_matrix, classification_report, accuracy_score, log_loss, roc_curve, roc_auc_score, fbeta_score\n",
    "from sklearn.preprocessing import PolynomialFeatures, StandardScaler\n",
    "from sklearn.pipeline import Pipeline\n",
    "from sklearn.datasets import make_hastie_10_2\n",
    "import warnings\n",
    "import gc\n",
    "import time\n",
    "from contextlib import contextmanager\n",
    "from IPython.display import clear_output\n",
    "warnings.simplefilter(action='ignore', category=FutureWarning)"
   ]
  },
  {
   "cell_type": "markdown",
   "id": "899288de",
   "metadata": {},
   "source": [
    "# Modélisation : Feature engineering"
   ]
  },
  {
   "cell_type": "code",
   "execution_count": 3,
   "id": "738e392c",
   "metadata": {},
   "outputs": [],
   "source": [
    "# @contextmanager\n",
    "# One-hot encoding for categorical columns with get_dummies\n",
    "def one_hot_encoder(df, nan_as_category = True):\n",
    "    original_columns = list(df.columns)\n",
    "    categorical_columns = [col for col in df.columns if df[col].dtype == 'object']\n",
    "    df = pd.get_dummies(df, columns= categorical_columns, dummy_na= nan_as_category)\n",
    "    new_columns = [c for c in df.columns if c not in original_columns]\n",
    "    return df, new_columns\n",
    "\n",
    "def imputation(df):\n",
    "    original_columns = list(df.columns)\n",
    "    categorical_columns = [col for col in df.columns if df[col].dtype == 'object']\n",
    "    imp_cat = SimpleImputer(missing_values=np.nan, strategy='most_frequent')\n",
    "    imp_num = SimpleImputer(missing_values=np.nan, strategy='mean')\n",
    "    for cols in df.columns:\n",
    "        if cols in categorical_columns:\n",
    "            df[cols] = imp_cat.fit_transform(df[cols].values.reshape(-1, 1))\n",
    "        else:\n",
    "            df[cols] = imp_num.fit_transform(df[cols].values.reshape(-1, 1))\n",
    "    print(\"nan : \",df.isna().sum().sum())\n",
    "    return df\n",
    "\n",
    "# Preprocess application_train.csv and application_test.csv\n",
    "def application_train_test(num_rows = None, nan_as_category = False):\n",
    "    # Read data and merge\n",
    "    df = pd.read_csv('data/application_train.csv', nrows= num_rows)\n",
    "    test_df = pd.read_csv('data/application_test.csv', nrows= num_rows)\n",
    "    print(\"Train samples: {}, test samples: {}\".format(len(df), len(test_df)))\n",
    "    df = df.append(test_df).reset_index()\n",
    "    # Optional: Remove 4 applications with XNA CODE_GENDER (train set)\n",
    "    df = df[df['CODE_GENDER'] != 'XNA']\n",
    "    # NaN values for DAYS_EMPLOYED: 365.243 -> nan\n",
    "    df['DAYS_EMPLOYED'].replace(365243, np.nan, inplace= True)\n",
    "    # Categorical features with Binary encode (0 or 1; two categories)\n",
    "    for bin_feature in ['CODE_GENDER', 'FLAG_OWN_CAR', 'FLAG_OWN_REALTY']:\n",
    "        df[bin_feature], uniques = pd.factorize(df[bin_feature])\n",
    "    df = imputation(df)\n",
    "    # Categorical features with One-Hot encode\n",
    "    df, cat_cols = one_hot_encoder(df, nan_as_category)\n",
    "    # Some simple new features (percentages)\n",
    "    df['DAYS_EMPLOYED_PERC'] = df['DAYS_EMPLOYED'] / df['DAYS_BIRTH']\n",
    "    df['INCOME_CREDIT_PERC'] = df['AMT_INCOME_TOTAL'] / df['AMT_CREDIT']\n",
    "    df['INCOME_PER_PERSON'] = df['AMT_INCOME_TOTAL'] / df['CNT_FAM_MEMBERS']\n",
    "    df['ANNUITY_INCOME_PERC'] = df['AMT_ANNUITY'] / df['AMT_INCOME_TOTAL']\n",
    "    df['PAYMENT_RATE'] = df['AMT_ANNUITY'] / df['AMT_CREDIT']\n",
    "    del test_df\n",
    "    gc.collect()\n",
    "    print(df.isna().sum().sum())\n",
    "    return df\n",
    "\n",
    "# Preprocess bureau.csv and bureau_balance.csv\n",
    "def bureau_and_balance(num_rows = None, nan_as_category = False):\n",
    "    bureau = pd.read_csv('data/bureau.csv', nrows = num_rows)\n",
    "    bb = pd.read_csv('data/bureau_balance.csv', nrows = num_rows)\n",
    "    bb = imputation(bb)\n",
    "    bureau = imputation(bureau)\n",
    "    bb, bb_cat = one_hot_encoder(bb, nan_as_category)\n",
    "    bureau, bureau_cat = one_hot_encoder(bureau, nan_as_category)\n",
    "    # Bureau balance: Perform aggregations and merge with bureau.csv\n",
    "    bb_aggregations = {'MONTHS_BALANCE': ['min', 'max', 'size']}\n",
    "    for col in bb_cat:\n",
    "        bb_aggregations[col] = ['mean']\n",
    "    bb_agg = bb.groupby('SK_ID_BUREAU').agg(bb_aggregations)\n",
    "    bb_agg.columns = pd.Index([e[0] + \"_\" + e[1].upper() for e in bb_agg.columns.tolist()])\n",
    "    bureau = bureau.join(bb_agg, how='left', on='SK_ID_BUREAU')\n",
    "    bureau.drop(['SK_ID_BUREAU'], axis=1, inplace= True)\n",
    "    del bb, bb_agg\n",
    "    gc.collect()\n",
    "    \n",
    "    # Bureau and bureau_balance numeric features\n",
    "    num_aggregations = {\n",
    "        'DAYS_CREDIT': ['min', 'max', 'mean', 'var'],\n",
    "        'DAYS_CREDIT_ENDDATE': ['min', 'max', 'mean'],\n",
    "        'DAYS_CREDIT_UPDATE': ['mean'],\n",
    "        'CREDIT_DAY_OVERDUE': ['max', 'mean'],\n",
    "        'AMT_CREDIT_MAX_OVERDUE': ['mean'],\n",
    "        'AMT_CREDIT_SUM': ['max', 'mean', 'sum'],\n",
    "        'AMT_CREDIT_SUM_DEBT': ['max', 'mean', 'sum'],\n",
    "        'AMT_CREDIT_SUM_OVERDUE': ['mean'],\n",
    "        'AMT_CREDIT_SUM_LIMIT': ['mean', 'sum'],\n",
    "        'AMT_ANNUITY': ['max', 'mean'],\n",
    "        'CNT_CREDIT_PROLONG': ['sum'],\n",
    "        'MONTHS_BALANCE_MIN': ['min'],\n",
    "        'MONTHS_BALANCE_MAX': ['max'],\n",
    "        'MONTHS_BALANCE_SIZE': ['mean', 'sum']\n",
    "    }\n",
    "    # Bureau and bureau_balance categorical features\n",
    "    cat_aggregations = {}\n",
    "    for cat in bureau_cat: cat_aggregations[cat] = ['mean']\n",
    "    for cat in bb_cat: cat_aggregations[cat + \"_MEAN\"] = ['mean']\n",
    "    \n",
    "    bureau_agg = bureau.groupby('SK_ID_CURR').agg({**num_aggregations, **cat_aggregations})\n",
    "    bureau_agg.columns = pd.Index(['BURO_' + e[0] + \"_\" + e[1].upper() for e in bureau_agg.columns.tolist()])\n",
    "    # Bureau: Active credits - using only numerical aggregations\n",
    "    active = bureau[bureau['CREDIT_ACTIVE_Active'] == 1]\n",
    "    active_agg = active.groupby('SK_ID_CURR').agg(num_aggregations)\n",
    "    active_agg.columns = pd.Index(['ACTIVE_' + e[0] + \"_\" + e[1].upper() for e in active_agg.columns.tolist()])\n",
    "    bureau_agg = bureau_agg.join(active_agg, how='left', on='SK_ID_CURR')\n",
    "    del active, active_agg\n",
    "    gc.collect()\n",
    "    # Bureau: Closed credits - using only numerical aggregations\n",
    "    closed = bureau[bureau['CREDIT_ACTIVE_Closed'] == 1]\n",
    "    closed_agg = closed.groupby('SK_ID_CURR').agg(num_aggregations)\n",
    "    closed_agg.columns = pd.Index(['CLOSED_' + e[0] + \"_\" + e[1].upper() for e in closed_agg.columns.tolist()])\n",
    "    bureau_agg = bureau_agg.join(closed_agg, how='left', on='SK_ID_CURR')\n",
    "    del closed, closed_agg, bureau\n",
    "    gc.collect()\n",
    "    print(bureau_agg.isna().sum().sum())\n",
    "    return bureau_agg\n",
    "\n",
    "# Preprocess previous_applications.csv\n",
    "def previous_applications(num_rows = None, nan_as_category = False):\n",
    "    prev = pd.read_csv('data/previous_application.csv', nrows = num_rows)\n",
    "    prev = imputation(prev)\n",
    "    prev, cat_cols = one_hot_encoder(prev, nan_as_category= nan_as_category)\n",
    "    # Days 365.243 values -> nan\n",
    "    prev['DAYS_FIRST_DRAWING'].replace(365243, np.nan, inplace= True)\n",
    "    prev['DAYS_FIRST_DUE'].replace(365243, np.nan, inplace= True)\n",
    "    prev['DAYS_LAST_DUE_1ST_VERSION'].replace(365243, np.nan, inplace= True)\n",
    "    prev['DAYS_LAST_DUE'].replace(365243, np.nan, inplace= True)\n",
    "    prev['DAYS_TERMINATION'].replace(365243, np.nan, inplace= True)\n",
    "    # Add feature: value ask / value received percentage\n",
    "    prev['APP_CREDIT_PERC'] = prev['AMT_APPLICATION'] / prev['AMT_CREDIT']\n",
    "    # Previous applications numeric features\n",
    "    num_aggregations = {\n",
    "        'AMT_ANNUITY': ['min', 'max', 'mean'],\n",
    "        'AMT_APPLICATION': ['min', 'max', 'mean'],\n",
    "        'AMT_CREDIT': ['min', 'max', 'mean'],\n",
    "        'APP_CREDIT_PERC': ['min', 'max', 'mean', 'var'],\n",
    "        'AMT_DOWN_PAYMENT': ['min', 'max', 'mean'],\n",
    "        'AMT_GOODS_PRICE': ['min', 'max', 'mean'],\n",
    "        'HOUR_APPR_PROCESS_START': ['min', 'max', 'mean'],\n",
    "        'RATE_DOWN_PAYMENT': ['min', 'max', 'mean'],\n",
    "        'DAYS_DECISION': ['min', 'max', 'mean'],\n",
    "        'CNT_PAYMENT': ['mean', 'sum'],\n",
    "    }\n",
    "    # Previous applications categorical features\n",
    "    cat_aggregations = {}\n",
    "    for cat in cat_cols:\n",
    "        cat_aggregations[cat] = ['mean']\n",
    "    \n",
    "    prev_agg = prev.groupby('SK_ID_CURR').agg({**num_aggregations, **cat_aggregations})\n",
    "    prev_agg.columns = pd.Index(['PREV_' + e[0] + \"_\" + e[1].upper() for e in prev_agg.columns.tolist()])\n",
    "    # Previous Applications: Approved Applications - only numerical features\n",
    "    approved = prev[prev['NAME_CONTRACT_STATUS_Approved'] == 1]\n",
    "    approved_agg = approved.groupby('SK_ID_CURR').agg(num_aggregations)\n",
    "    approved_agg.columns = pd.Index(['APPROVED_' + e[0] + \"_\" + e[1].upper() for e in approved_agg.columns.tolist()])\n",
    "    prev_agg = prev_agg.join(approved_agg, how='left', on='SK_ID_CURR')\n",
    "    # Previous Applications: Refused Applications - only numerical features\n",
    "    refused = prev[prev['NAME_CONTRACT_STATUS_Refused'] == 1]\n",
    "    refused_agg = refused.groupby('SK_ID_CURR').agg(num_aggregations)\n",
    "    refused_agg.columns = pd.Index(['REFUSED_' + e[0] + \"_\" + e[1].upper() for e in refused_agg.columns.tolist()])\n",
    "    prev_agg = prev_agg.join(refused_agg, how='left', on='SK_ID_CURR')\n",
    "    del refused, refused_agg, approved, approved_agg, prev\n",
    "    gc.collect()\n",
    "    print(prev_agg.isna().sum().sum())\n",
    "    return prev_agg\n",
    "\n",
    "# Preprocess POS_CASH_balance.csv\n",
    "def pos_cash(num_rows = None, nan_as_category = False):\n",
    "    pos = pd.read_csv('data/POS_CASH_balance.csv', nrows = num_rows)\n",
    "    pos = imputation(pos)\n",
    "    pos, cat_cols = one_hot_encoder(pos, nan_as_category= nan_as_category)\n",
    "    # Features\n",
    "    aggregations = {\n",
    "        'MONTHS_BALANCE': ['max', 'mean', 'size'],\n",
    "        'SK_DPD': ['max', 'mean'],\n",
    "        'SK_DPD_DEF': ['max', 'mean']\n",
    "    }\n",
    "    for cat in cat_cols:\n",
    "        aggregations[cat] = ['mean']\n",
    "    \n",
    "    pos_agg = pos.groupby('SK_ID_CURR').agg(aggregations)\n",
    "    pos_agg.columns = pd.Index(['POS_' + e[0] + \"_\" + e[1].upper() for e in pos_agg.columns.tolist()])\n",
    "    # Count pos cash accounts\n",
    "    pos_agg['POS_COUNT'] = pos.groupby('SK_ID_CURR').size()\n",
    "    del pos\n",
    "    gc.collect()\n",
    "    print(pos_agg.isna().sum().sum())\n",
    "    return pos_agg\n",
    "    \n",
    "# Preprocess installments_payments.csv\n",
    "def installments_payments(num_rows = None, nan_as_category = False):\n",
    "    ins = pd.read_csv('data/installments_payments.csv', nrows = num_rows)\n",
    "    ins = imputation(ins)\n",
    "    ins, cat_cols = one_hot_encoder(ins, nan_as_category= nan_as_category)\n",
    "    display(ins.head())\n",
    "    # Percentage and difference paid in each installment (amount paid and installment value)\n",
    "    ins['PAYMENT_PERC'] = ins['AMT_PAYMENT'] / ins['AMT_INSTALMENT']\n",
    "    ins['PAYMENT_DIFF'] = ins['AMT_INSTALMENT'] - ins['AMT_PAYMENT']\n",
    "    # Days past due and days before due (no negative values)\n",
    "    ins['DPD'] = ins['DAYS_ENTRY_PAYMENT'] - ins['DAYS_INSTALMENT']\n",
    "    ins['DBD'] = ins['DAYS_INSTALMENT'] - ins['DAYS_ENTRY_PAYMENT']\n",
    "    ins['DPD'] = ins['DPD'].apply(lambda x: x if x > 0 else 0)\n",
    "    ins['DBD'] = ins['DBD'].apply(lambda x: x if x > 0 else 0)\n",
    "    # Features: Perform aggregations\n",
    "    aggregations = {\n",
    "        'NUM_INSTALMENT_VERSION': ['nunique'],\n",
    "        'DPD': ['max', 'mean', 'sum'],\n",
    "        'DBD': ['max', 'mean', 'sum'],\n",
    "        'PAYMENT_PERC': ['max', 'mean', 'sum', 'var'],\n",
    "        'PAYMENT_DIFF': ['max', 'mean', 'sum', 'var'],\n",
    "        'AMT_INSTALMENT': ['max', 'mean', 'sum'],\n",
    "        'AMT_PAYMENT': ['min', 'max', 'mean', 'sum'],\n",
    "        'DAYS_ENTRY_PAYMENT': ['max', 'mean', 'sum']\n",
    "    }\n",
    "    for cat in cat_cols:\n",
    "        aggregations[cat] = ['mean']\n",
    "    ins_agg = ins.groupby('SK_ID_CURR').agg(aggregations)\n",
    "    ins_agg.columns = pd.Index(['INSTAL_' + e[0] + \"_\" + e[1].upper() for e in ins_agg.columns.tolist()])\n",
    "    # Count installments accounts\n",
    "    ins_agg['INSTAL_COUNT'] = ins.groupby('SK_ID_CURR').size()\n",
    "    del ins\n",
    "    gc.collect()\n",
    "    print(ins_agg.isna().sum().sum())\n",
    "    return ins_agg\n",
    "\n",
    "# Preprocess credit_card_balance.csv\n",
    "def credit_card_balance(num_rows = None, nan_as_category = False):\n",
    "    cc = pd.read_csv('data/credit_card_balance.csv', nrows = num_rows)\n",
    "    cc = imputation(cc)\n",
    "    cc, cat_cols = one_hot_encoder(cc, nan_as_category= nan_as_category)\n",
    "    # General aggregations\n",
    "    cc.drop(['SK_ID_PREV'], axis= 1, inplace = True)\n",
    "    cc_agg = cc.groupby('SK_ID_CURR').agg(['min', 'max', 'mean', 'sum', 'var'])\n",
    "    cc_agg.columns = pd.Index(['CC_' + e[0] + \"_\" + e[1].upper() for e in cc_agg.columns.tolist()])\n",
    "    # Count credit card lines\n",
    "    cc_agg['CC_COUNT'] = cc.groupby('SK_ID_CURR').size()\n",
    "    del cc\n",
    "    gc.collect()\n",
    "    print(cc_agg.isna().sum().sum())\n",
    "    return cc_agg"
   ]
  },
  {
   "cell_type": "code",
   "execution_count": 4,
   "id": "b1b8a436",
   "metadata": {},
   "outputs": [],
   "source": [
    "# num_rows = None\n",
    "# df = application_train_test(num_rows)\n",
    "# bureau = bureau_and_balance(num_rows)\n",
    "# print(\"Bureau df shape:\", bureau.shape)\n",
    "# df = df.join(bureau, how='left', on='SK_ID_CURR')\n",
    "# del bureau\n",
    "# prev = previous_applications(num_rows)\n",
    "# print(\"Previous applications df shape:\", prev.shape)\n",
    "# df = df.join(prev, how='left', on='SK_ID_CURR')\n",
    "# del prev\n",
    "# pos = pos_cash(num_rows)\n",
    "# print(\"Pos-cash balance df shape:\", pos.shape)\n",
    "# df = df.join(pos, how='left', on='SK_ID_CURR')\n",
    "# del pos\n",
    "# ins = installments_payments(num_rows)\n",
    "# print(\"Installments payments df shape:\", ins.shape)\n",
    "# df = df.join(ins, how='left', on='SK_ID_CURR')\n",
    "# del ins\n",
    "# cc = credit_card_balance(num_rows)\n",
    "# print(\"Credit card balance df shape:\", cc.shape)\n",
    "# df = df.join(cc, how='left', on='SK_ID_CURR')\n",
    "# del cc"
   ]
  },
  {
   "cell_type": "code",
   "execution_count": 5,
   "id": "59862df9",
   "metadata": {},
   "outputs": [],
   "source": [
    "train = pd.read_csv(\"data//application_train.csv\")"
   ]
  },
  {
   "cell_type": "code",
   "execution_count": 6,
   "id": "31d76b85",
   "metadata": {},
   "outputs": [],
   "source": [
    "test = pd.read_csv(\"data//application_test.csv\")"
   ]
  },
  {
   "cell_type": "code",
   "execution_count": 7,
   "id": "7f7f721a",
   "metadata": {
    "scrolled": true
   },
   "outputs": [],
   "source": [
    "bureau = pd.read_csv(\"data//bureau.csv\")"
   ]
  },
  {
   "cell_type": "code",
   "execution_count": null,
   "id": "95c2998b",
   "metadata": {},
   "outputs": [],
   "source": [
    "bb = pd.read_csv(\"data//bureau_balance.csv\")"
   ]
  },
  {
   "cell_type": "code",
   "execution_count": 6,
   "id": "a284c68c",
   "metadata": {
    "scrolled": true
   },
   "outputs": [],
   "source": [
    "pos = pd.read_csv(\"data//POS_CASH_balance.csv\")"
   ]
  },
  {
   "cell_type": "code",
   "execution_count": 7,
   "id": "8aeabae1",
   "metadata": {},
   "outputs": [],
   "source": [
    "ccb = pd.read_csv(\"data//credit_card_balance.csv\")"
   ]
  },
  {
   "cell_type": "code",
   "execution_count": 8,
   "id": "1baf003b",
   "metadata": {},
   "outputs": [],
   "source": [
    "prev = pd.read_csv(\"data//previous_application.csv\")"
   ]
  },
  {
   "cell_type": "code",
   "execution_count": 9,
   "id": "b3e5f287",
   "metadata": {},
   "outputs": [],
   "source": [
    "ins = pd.read_csv(\"data//installments_payments.csv\")"
   ]
  },
  {
   "cell_type": "markdown",
   "id": "0661c0d6",
   "metadata": {},
   "source": [
    "# Fonctions"
   ]
  },
  {
   "cell_type": "code",
   "execution_count": 4,
   "id": "607a2092",
   "metadata": {},
   "outputs": [],
   "source": [
    "def plot_classification_report(y_test, y_pred, y_pred_prob, beta = 2):\n",
    "    conf_mat = confusion_matrix(y_test,y_pred)\n",
    "    tn, fp, fn, tp = confusion_matrix(y_test,y_pred).ravel()\n",
    "    df_cm = pd.DataFrame(conf_mat, index = [0,1], columns = [i for i in \"01\"])\n",
    "    fpr, tpr, thresholds = roc_curve(y_test, y_pred_prob[:,1])\n",
    "    fig, ax = plt.subplots(1, 2, figsize = (15,7))\n",
    "    sns.heatmap(df_cm, annot=True, ax = ax[0], cmap=\"Blues\", fmt=\"d\", cbar = False)\n",
    "    ax[0].set_xlabel(\"Predicted\")\n",
    "    ax[0].set_ylabel(\"Actual\")\n",
    "    ax[0].set_title(\"Confusion Matrix\")\n",
    "    ax[1].plot(fpr,tpr)\n",
    "    ax[1].set_xlabel(\"False Positive Rate\")\n",
    "    ax[1].set_ylabel(\"True Positive Rate\")\n",
    "    ax[1].set_title(\"ROC Curve\")\n",
    "    roc = round(100*roc_auc_score(y_test, y_pred),2)\n",
    "    ax[1].text(1,0,\"AUC : \" + str(roc) + \"%\", fontsize=14, verticalalignment='bottom', horizontalalignment = 'right')\n",
    "    plt.show()\n",
    "    print(\"accuracy : \", round(100*accuracy_score(y_test, y_pred),2), \"%\")\n",
    "    print(\"precision : \", round(100*tp/(tp+fp),2), \"%\")\n",
    "    print(\"recall : \", round(100*tp/(tp+fn),2), \"%\")\n",
    "    print(\"f\"+str(beta) + \" : \", round(100*fbeta_score(y_test,y_pred, beta = beta), 2))\n",
    "    print(\"log_loss : \", round(log_loss(y_test,y_pred),2))\n",
    "    print(\"AUC : \", roc, \"%\")"
   ]
  },
  {
   "cell_type": "code",
   "execution_count": 1,
   "id": "b831a4f1",
   "metadata": {},
   "outputs": [],
   "source": [
    "n_sample = 500\n",
    "df = pd.read_csv(\"df.csv\")\n",
    "df = df[df.TARGET.isna()]\n",
    "df = df.sample(n = n_sample, random_state = 42)\n",
    "df = df.replace([np.inf, -np.inf], np.nan)"
   ]
  },
  {
   "cell_type": "code",
   "execution_count": null,
   "id": "b70411c3",
   "metadata": {},
   "outputs": [],
   "source": [
    "df.TARGET.value_counts()"
   ]
  },
  {
   "cell_type": "markdown",
   "id": "5be72587",
   "metadata": {},
   "source": [
    "# Regression Logistique"
   ]
  },
  {
   "cell_type": "code",
   "execution_count": null,
   "id": "b66a927a",
   "metadata": {},
   "outputs": [],
   "source": [
    "numeric_transformer = Pipeline(steps=[(\"imputer\", SimpleImputer(strategy=\"median\")), (\"scaler\", StandardScaler())]) \n",
    "categ_transformer = Pipeline(steps=[(\"imputer\", SimpleImputer(strategy=\"mode\")), (\"onehot\", OneHotEncoder(handle_unknown=\"ignore\")())]) \n",
    "preprocessor = ColumnTransformer(transformers=[(\"num\", numeric_transformer, numeric_features), (\"cat\", categorical_transformer, categorical_features),])\n",
    "clf = Pipeline(steps=[(\"preprocessor\", preprocessor), (\"classifier\", LogisticRegression())]) \n",
    "X_train, X_test, y_train, y_test = train_test_split(X, y, test_size=0.2, random_state=0) \n",
    "clf.fit(X_train, y_train) \n",
    "print(\"model score: %.3f\" % clf.score(X_test, y_test))"
   ]
  },
  {
   "cell_type": "code",
   "execution_count": 21,
   "id": "89c6481d",
   "metadata": {},
   "outputs": [
    {
     "name": "stdout",
     "output_type": "stream",
     "text": [
      "{'estimator__class_weight': 'balanced'}\n",
      "0.27306570601063157\n"
     ]
    }
   ],
   "source": [
    "X_train, X_test, y_train, y_test = train_test_split(X, y, test_size=0.33, random_state=42)\n",
    "\n",
    "metric = \"f1\"\n",
    "# preprocessor = ColumnTransformer(transformers=[(\"num\", StandardScaler(), selector(dtype_exclude=\"category\"))])\n",
    "preprocessor = StandardScaler()\n",
    "pipe = Pipeline([('transformer', preprocessor), ('estimator', LogisticRegression(random_state=0, class_weight = 'balanced'))])\n",
    "parameters = {'estimator__class_weight' : ('balanced', None)}\n",
    "search_rl = GridSearchCV(pipe, parameters, scoring = metric, return_train_score = True)\n",
    "search_rl.fit(X_train, y_train)\n",
    "print(search_rl.best_params_)\n",
    "print(search_rl.best_score_)\n",
    "y_pred_rl = search_rl.predict(X_test)\n",
    "y_pred_prob_rl = search_rl.predict_proba(X_test)"
   ]
  },
  {
   "cell_type": "code",
   "execution_count": 16,
   "id": "c084051e",
   "metadata": {},
   "outputs": [],
   "source": [
    "# afficher le score d'entraînement"
   ]
  },
  {
   "cell_type": "code",
   "execution_count": 19,
   "id": "a160d838",
   "metadata": {},
   "outputs": [
    {
     "name": "stdout",
     "output_type": "stream",
     "text": [
      "[0.27306571 0.07393083]\n"
     ]
    }
   ],
   "source": [
    "print(search_rl.cv_results_[\"mean_test_score\"])"
   ]
  },
  {
   "cell_type": "code",
   "execution_count": 22,
   "id": "447ed560",
   "metadata": {},
   "outputs": [
    {
     "name": "stdout",
     "output_type": "stream",
     "text": [
      "dict_keys(['mean_fit_time', 'std_fit_time', 'mean_score_time', 'std_score_time', 'param_estimator__class_weight', 'params', 'split0_test_score', 'split1_test_score', 'split2_test_score', 'split3_test_score', 'split4_test_score', 'mean_test_score', 'std_test_score', 'rank_test_score', 'split0_train_score', 'split1_train_score', 'split2_train_score', 'split3_train_score', 'split4_train_score', 'mean_train_score', 'std_train_score'])\n"
     ]
    }
   ],
   "source": [
    "print(search_rl.cv_results_.keys())"
   ]
  },
  {
   "cell_type": "code",
   "execution_count": 23,
   "id": "a18e4eb9",
   "metadata": {},
   "outputs": [
    {
     "data": {
      "text/plain": [
       "array([0.29600248, 0.09586134])"
      ]
     },
     "execution_count": 23,
     "metadata": {},
     "output_type": "execute_result"
    }
   ],
   "source": [
    "search_rl.cv_results_[\"mean_train_score\"]"
   ]
  },
  {
   "cell_type": "code",
   "execution_count": 30,
   "id": "81fd68f2",
   "metadata": {},
   "outputs": [
    {
     "data": {
      "image/png": "[encoded data removed]",
      "text/plain": [
       "<Figure size 1080x504 with 2 Axes>"
      ]
     },
     "metadata": {
      "needs_background": "light"
     },
     "output_type": "display_data"
    },
    {
     "name": "stdout",
     "output_type": "stream",
     "text": [
      "accuracy :  70.14 %\n",
      "precision :  16.17 %\n",
      "recall :  66.77 %\n",
      "f2 :  41.07\n",
      "log_loss :  10.31\n",
      "AUC :  68.6 %\n"
     ]
    }
   ],
   "source": [
    "plot_classification_report(y_test, y_pred_rl, y_pred_prob_rl)\n",
    "# tester le fbeta : "
   ]
  },
  {
   "cell_type": "code",
   "execution_count": 10,
   "id": "850b3dc3",
   "metadata": {},
   "outputs": [],
   "source": [
    "# # get importance\n",
    "# importance = pipe[\"estimator\"].coef_[0]\n",
    "# importance_sorted = np.sort(importance)\n",
    "# importance_best = importance_sorted[:15]\n",
    "# # summarize feature importance\n",
    "# for i,v in enumerate(importance_best):\n",
    "#     print('Feature: %0d, Score: %.5f' % (i,v))\n",
    "# # plot feature importance\n",
    "# plt.bar([x for x in range(len(importance_best))], abs(importance_best))\n",
    "# plt.show()"
   ]
  },
  {
   "cell_type": "markdown",
   "id": "4000bc65",
   "metadata": {},
   "source": [
    "# Gradient Boosting"
   ]
  },
  {
   "cell_type": "code",
   "execution_count": 140,
   "id": "eac8df0f",
   "metadata": {},
   "outputs": [],
   "source": [
    "X_train, X_test, y_train, y_test = train_test_split(X, y, test_size=0.33, random_state=42)\n",
    "\n",
    "GB = GradientBoostingClassifier(n_estimators=100, learning_rate=1.0, max_depth=1, random_state=0)\n",
    "pipe = Pipeline([('transformer', StandardScaler()), ('estimator', GB)])\n",
    "pipe.fit(X_train, y_train)\n",
    "y_pred_gb = pipe.predict(X_test)\n",
    "y_pred_prob_gb = pipe.predict_proba(X_test)"
   ]
  },
  {
   "cell_type": "code",
   "execution_count": 141,
   "id": "2b68592c",
   "metadata": {},
   "outputs": [
    {
     "data": {
      "image/png": "[encoded data removed]",
      "text/plain": [
       "<Figure size 1080x504 with 2 Axes>"
      ]
     },
     "metadata": {
      "needs_background": "light"
     },
     "output_type": "display_data"
    },
    {
     "name": "stdout",
     "output_type": "stream",
     "text": [
      "accuracy :  92.0 %\n",
      "precision :  43.26 %\n",
      "recall :  5.31 %\n",
      "log_loss :  2.76\n",
      "AUC :  52.36 %\n"
     ]
    }
   ],
   "source": [
    "plot_classification_report(y_test, y_pred_gb, y_pred_prob_gb)"
   ]
  },
  {
   "cell_type": "markdown",
   "id": "b6c98e51",
   "metadata": {},
   "source": [
    "# LightGBM"
   ]
  },
  {
   "cell_type": "code",
   "execution_count": 153,
   "id": "1e9d9369",
   "metadata": {},
   "outputs": [
    {
     "name": "stdout",
     "output_type": "stream",
     "text": [
      "[LightGBM] [Warning] num_threads is set with n_jobs=-1, nthread=4 will be ignored. Current value: num_threads=-1\n",
      "[200]\ttraining's auc: 0.836335\ttraining's binary_logloss: 0.223406\tvalid_1's auc: 0.766377\tvalid_1's binary_logloss: 0.23977\n",
      "[400]\ttraining's auc: 0.871348\ttraining's binary_logloss: 0.206962\tvalid_1's auc: 0.772946\tvalid_1's binary_logloss: 0.237262\n",
      "[600]\ttraining's auc: 0.894542\ttraining's binary_logloss: 0.195536\tvalid_1's auc: 0.774617\tvalid_1's binary_logloss: 0.236727\n",
      "[800]\ttraining's auc: 0.913818\ttraining's binary_logloss: 0.185527\tvalid_1's auc: 0.775231\tvalid_1's binary_logloss: 0.236574\n",
      "[1000]\ttraining's auc: 0.92916\ttraining's binary_logloss: 0.176481\tvalid_1's auc: 0.775144\tvalid_1's binary_logloss: 0.236675\n",
      "AUC : 0.521107\n"
     ]
    }
   ],
   "source": [
    "feature_importance_df = pd.DataFrame()\n",
    "feats = [f for f in df.columns if f not in ['TARGET','SK_ID_CURR','SK_ID_BUREAU','SK_ID_PREV','index']]\n",
    "\n",
    "# LightGBM parameters found by Bayesian optimization\n",
    "clf = LGBMClassifier(\n",
    "    nthread=4,\n",
    "    n_estimators=10000,\n",
    "    learning_rate=0.02,\n",
    "    num_leaves=34,\n",
    "    colsample_bytree=0.9497036,\n",
    "    subsample=0.8715623,\n",
    "    max_depth=8,\n",
    "    reg_alpha=0.041545473,\n",
    "    reg_lambda=0.0735294,\n",
    "    min_split_gain=0.0222415,\n",
    "    min_child_weight=39.3259775,\n",
    "    silent=-1,\n",
    "    verbose=-1,)\n",
    "\n",
    "clf.fit(X_train, y_train, eval_set=[(X_train, y_train), (X_test, y_test)], eval_metric= 'auc', verbose= 200, early_stopping_rounds= 200)\n",
    "\n",
    "y_pred_lgbm = clf.predict(X_test, num_iteration=clf.best_iteration_)\n",
    "\n",
    "y_pred_prob_lgbm = clf.predict_proba(X_test, num_iteration=clf.best_iteration_)\n",
    "\n",
    "print('AUC : %.6f' % (roc_auc_score(y_test, y_pred_lgbm)))"
   ]
  },
  {
   "cell_type": "code",
   "execution_count": 154,
   "id": "8284371f",
   "metadata": {},
   "outputs": [
    {
     "data": {
      "image/png": "[encoded data removed]",
      "text/plain": [
       "<Figure size 1080x504 with 2 Axes>"
      ]
     },
     "metadata": {
      "needs_background": "light"
     },
     "output_type": "display_data"
    },
    {
     "name": "stdout",
     "output_type": "stream",
     "text": [
      "accuracy :  92.19 %\n",
      "precision :  54.63 %\n",
      "recall :  4.54 %\n",
      "log_loss :  2.7\n",
      "AUC :  52.11 %\n"
     ]
    }
   ],
   "source": [
    "plot_classification_report(y_test, y_pred_lgbm, y_pred_prob_lgbm)"
   ]
  },
  {
   "cell_type": "code",
   "execution_count": null,
   "id": "a83f77e4",
   "metadata": {},
   "outputs": [],
   "source": []
  }
 ],
 "metadata": {
  "kernelspec": {
   "display_name": "Python 3 (ipykernel)",
   "language": "python",
   "name": "python3"
  },
  "language_info": {
   "codemirror_mode": {
    "name": "ipython",
    "version": 3
   },
   "file_extension": ".py",
   "mimetype": "text/x-python",
   "name": "python",
   "nbconvert_exporter": "python",
   "pygments_lexer": "ipython3",
   "version": "3.10.6"
  }
 },
 "nbformat": 4,
 "nbformat_minor": 5
}
